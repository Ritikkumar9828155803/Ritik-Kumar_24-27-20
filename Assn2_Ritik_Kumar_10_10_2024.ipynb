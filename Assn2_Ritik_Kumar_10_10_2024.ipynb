{
  "nbformat": 4,
  "nbformat_minor": 0,
  "metadata": {
    "colab": {
      "provenance": [],
      "authorship_tag": "ABX9TyNlOAifcHPTCKc0dhR9ZyZW",
      "include_colab_link": true
    },
    "kernelspec": {
      "name": "python3",
      "display_name": "Python 3"
    },
    "language_info": {
      "name": "python"
    }
  },
  "cells": [
    {
      "cell_type": "markdown",
      "metadata": {
        "id": "view-in-github",
        "colab_type": "text"
      },
      "source": [
        "<a href=\"https://colab.research.google.com/github/Ritikkumar9828155803/Ritik-Kumar_24-27-20/blob/main/Assn2_Ritik_Kumar_10_10_2024.ipynb\" target=\"_parent\"><img src=\"https://colab.research.google.com/assets/colab-badge.svg\" alt=\"Open In Colab\"/></a>"
      ]
    },
    {
      "cell_type": "code",
      "source": [
        "# NAME-- RITIK KUMAR , REG NO. -- 24-27-20 , PROGRAMME-- MTECH DATA SCIENCE ,  ASSIGNEMENT NO.2\n"
      ],
      "metadata": {
        "id": "u0GPkVbsHMgM"
      },
      "execution_count": 8,
      "outputs": []
    },
    {
      "cell_type": "code",
      "source": [
        "import numpy as np"
      ],
      "metadata": {
        "id": "oFXrHaN1F5-v"
      },
      "execution_count": 9,
      "outputs": []
    },
    {
      "cell_type": "markdown",
      "source": [
        "# **Q1**"
      ],
      "metadata": {
        "id": "8C6Xhav4Swpx"
      }
    },
    {
      "cell_type": "markdown",
      "source": [
        "##**(a)**"
      ],
      "metadata": {
        "id": "5Mm8elrcI9UH"
      }
    },
    {
      "cell_type": "code",
      "source": [
        "\n",
        "var1 = np.arange(0, 30)\n",
        "print(\"var1:\\n\", var1)\n",
        "print(\"Shape of var1:\", var1.shape)\n"
      ],
      "metadata": {
        "colab": {
          "base_uri": "https://localhost:8080/",
          "height": 0
        },
        "id": "OVw4VjibFe7V",
        "outputId": "4f320b53-e4ca-485a-dd93-c85f58d45494"
      },
      "execution_count": 10,
      "outputs": [
        {
          "output_type": "stream",
          "name": "stdout",
          "text": [
            "var1:\n",
            " [ 0  1  2  3  4  5  6  7  8  9 10 11 12 13 14 15 16 17 18 19 20 21 22 23\n",
            " 24 25 26 27 28 29]\n",
            "Shape of var1: (30,)\n"
          ]
        }
      ]
    },
    {
      "cell_type": "markdown",
      "source": [],
      "metadata": {
        "id": "z8BzGwj7JPxA"
      }
    },
    {
      "cell_type": "markdown",
      "source": [
        "# **(b)**"
      ],
      "metadata": {
        "id": "HbGPJ7WhJS_f"
      }
    },
    {
      "cell_type": "code",
      "source": [
        "var2 = var1.reshape(6, 5)\n",
        "print(\"\\nvar2:\\n\", var2)\n",
        "print(\"Shape of var2:\", var2.shape)\n"
      ],
      "metadata": {
        "colab": {
          "base_uri": "https://localhost:8080/",
          "height": 0
        },
        "id": "3l1WbGgeF_JQ",
        "outputId": "f081346d-2402-47c8-803d-ebaed5aeca6e"
      },
      "execution_count": 11,
      "outputs": [
        {
          "output_type": "stream",
          "name": "stdout",
          "text": [
            "\n",
            "var2:\n",
            " [[ 0  1  2  3  4]\n",
            " [ 5  6  7  8  9]\n",
            " [10 11 12 13 14]\n",
            " [15 16 17 18 19]\n",
            " [20 21 22 23 24]\n",
            " [25 26 27 28 29]]\n",
            "Shape of var2: (6, 5)\n"
          ]
        }
      ]
    },
    {
      "cell_type": "markdown",
      "source": [
        "# **(c)**"
      ],
      "metadata": {
        "id": "a-d5VvKbJYQG"
      }
    },
    {
      "cell_type": "code",
      "source": [
        "var3 = var1.reshape(2, 3, 5)\n",
        "print(\"\\nvar3:\\n\", var3)\n",
        "print(\"Shape of var3:\", var3.shape)\n"
      ],
      "metadata": {
        "colab": {
          "base_uri": "https://localhost:8080/",
          "height": 0
        },
        "id": "N_14-9P4GEbZ",
        "outputId": "b62a99cd-c489-4c5f-e619-be4f4e76724f"
      },
      "execution_count": 12,
      "outputs": [
        {
          "output_type": "stream",
          "name": "stdout",
          "text": [
            "\n",
            "var3:\n",
            " [[[ 0  1  2  3  4]\n",
            "  [ 5  6  7  8  9]\n",
            "  [10 11 12 13 14]]\n",
            "\n",
            " [[15 16 17 18 19]\n",
            "  [20 21 22 23 24]\n",
            "  [25 26 27 28 29]]]\n",
            "Shape of var3: (2, 3, 5)\n"
          ]
        }
      ]
    },
    {
      "cell_type": "markdown",
      "source": [
        "# **(d)**"
      ],
      "metadata": {
        "id": "FwvCw9JtJdQz"
      }
    },
    {
      "cell_type": "code",
      "source": [
        "var2[1, 0] = -1\n",
        "print(\"\\nModified var2:\\n\", var2)\n",
        "print(\"var1 after modification:\\n\", var1)\n",
        "print(\"var3 after modification:\\n\", var3)\n",
        "\n"
      ],
      "metadata": {
        "colab": {
          "base_uri": "https://localhost:8080/",
          "height": 0
        },
        "id": "L5gzRxL9GKnR",
        "outputId": "aa1be9a4-eecc-4319-865e-dcb62c3a8098"
      },
      "execution_count": 13,
      "outputs": [
        {
          "output_type": "stream",
          "name": "stdout",
          "text": [
            "\n",
            "Modified var2:\n",
            " [[ 0  1  2  3  4]\n",
            " [-1  6  7  8  9]\n",
            " [10 11 12 13 14]\n",
            " [15 16 17 18 19]\n",
            " [20 21 22 23 24]\n",
            " [25 26 27 28 29]]\n",
            "var1 after modification:\n",
            " [ 0  1  2  3  4 -1  6  7  8  9 10 11 12 13 14 15 16 17 18 19 20 21 22 23\n",
            " 24 25 26 27 28 29]\n",
            "var3 after modification:\n",
            " [[[ 0  1  2  3  4]\n",
            "  [-1  6  7  8  9]\n",
            "  [10 11 12 13 14]]\n",
            "\n",
            " [[15 16 17 18 19]\n",
            "  [20 21 22 23 24]\n",
            "  [25 26 27 28 29]]]\n"
          ]
        }
      ]
    },
    {
      "cell_type": "markdown",
      "source": [
        "# **(e)**"
      ],
      "metadata": {
        "id": "deCxZRHoJgfc"
      }
    },
    {
      "cell_type": "code",
      "source": [
        "sum_second_dimension = np.sum(var3, axis=1)\n",
        "print(\"\\nSum over the second dimension of var3:\\n\", sum_second_dimension)\n",
        "\n",
        "\n",
        "sum_third_dimension = np.sum(var3, axis=2)\n",
        "print(\"\\nSum over the third dimension of var3:\\n\", sum_third_dimension)\n",
        "\n",
        "\n",
        "sum_first_third_dimensions = np.sum(var3, axis=(0, 2))\n",
        "print(\"\\nSum over both the first and third dimensions of var3:\\n\", sum_first_third_dimensions)\n"
      ],
      "metadata": {
        "colab": {
          "base_uri": "https://localhost:8080/",
          "height": 0
        },
        "id": "ulgmIKWtGULq",
        "outputId": "15c82b63-3fa5-4a56-9062-9fd2fd04433b"
      },
      "execution_count": 14,
      "outputs": [
        {
          "output_type": "stream",
          "name": "stdout",
          "text": [
            "\n",
            "Sum over the second dimension of var3:\n",
            " [[ 9 18 21 24 27]\n",
            " [60 63 66 69 72]]\n",
            "\n",
            "Sum over the third dimension of var3:\n",
            " [[ 10  29  60]\n",
            " [ 85 110 135]]\n",
            "\n",
            "Sum over both the first and third dimensions of var3:\n",
            " [ 95 139 195]\n"
          ]
        }
      ]
    },
    {
      "cell_type": "markdown",
      "source": [
        "# **(f)**"
      ],
      "metadata": {
        "id": "Veqg20GMJklG"
      }
    },
    {
      "cell_type": "code",
      "source": [
        "second_row = var2[1, :]\n",
        "print(\"\\nSecond row of var2:\\n\", second_row)\n",
        "\n",
        "last_column = var2[:, -1]\n",
        "print(\"\\nLast column of var2:\\n\", last_column)\n",
        "\n",
        "top_right_submatrix = var2[:2, -2:]\n",
        "print(\"\\nTop-right 2x2 submatrix of var2:\\n\", top_right_submatrix)\n"
      ],
      "metadata": {
        "colab": {
          "base_uri": "https://localhost:8080/",
          "height": 0
        },
        "id": "WbWfM9S6GaNt",
        "outputId": "be5e69a8-80fc-4a90-e9c9-51f81d8af999"
      },
      "execution_count": 15,
      "outputs": [
        {
          "output_type": "stream",
          "name": "stdout",
          "text": [
            "\n",
            "Second row of var2:\n",
            " [-1  6  7  8  9]\n",
            "\n",
            "Last column of var2:\n",
            " [ 4  9 14 19 24 29]\n",
            "\n",
            "Top-right 2x2 submatrix of var2:\n",
            " [[3 4]\n",
            " [8 9]]\n"
          ]
        }
      ]
    },
    {
      "cell_type": "code",
      "source": [],
      "metadata": {
        "id": "hk4fqyNhS52U"
      },
      "execution_count": null,
      "outputs": []
    },
    {
      "cell_type": "markdown",
      "source": [
        "# **Q2**"
      ],
      "metadata": {
        "id": "06RF050CS1tO"
      }
    },
    {
      "cell_type": "markdown",
      "source": [
        "# **(a)**"
      ],
      "metadata": {
        "id": "8-tpIPIFTJPc"
      }
    },
    {
      "cell_type": "code",
      "source": [
        "vector = np.arange(10) + 1\n",
        "\n",
        "print(\"Vector from 1 to 10:\\n\", vector)\n"
      ],
      "metadata": {
        "colab": {
          "base_uri": "https://localhost:8080/"
        },
        "id": "ezHqB-LES73b",
        "outputId": "60f02743-1403-403d-931d-89e6cc0b1918"
      },
      "execution_count": 16,
      "outputs": [
        {
          "output_type": "stream",
          "name": "stdout",
          "text": [
            "Vector from 1 to 10:\n",
            " [ 1  2  3  4  5  6  7  8  9 10]\n"
          ]
        }
      ]
    },
    {
      "cell_type": "markdown",
      "source": [
        "# **(b)**"
      ],
      "metadata": {
        "id": "MeIdvLIuTM-N"
      }
    },
    {
      "cell_type": "code",
      "source": [
        "A = vector.reshape(10, 1) + vector\n",
        "\n",
        "print(\"\\nMatrix A (i + j):\\n\", A)\n"
      ],
      "metadata": {
        "colab": {
          "base_uri": "https://localhost:8080/"
        },
        "id": "ianuqpkVTExh",
        "outputId": "41cc4efd-b034-4a9f-b940-63134bf3b289"
      },
      "execution_count": 17,
      "outputs": [
        {
          "output_type": "stream",
          "name": "stdout",
          "text": [
            "\n",
            "Matrix A (i + j):\n",
            " [[ 2  3  4  5  6  7  8  9 10 11]\n",
            " [ 3  4  5  6  7  8  9 10 11 12]\n",
            " [ 4  5  6  7  8  9 10 11 12 13]\n",
            " [ 5  6  7  8  9 10 11 12 13 14]\n",
            " [ 6  7  8  9 10 11 12 13 14 15]\n",
            " [ 7  8  9 10 11 12 13 14 15 16]\n",
            " [ 8  9 10 11 12 13 14 15 16 17]\n",
            " [ 9 10 11 12 13 14 15 16 17 18]\n",
            " [10 11 12 13 14 15 16 17 18 19]\n",
            " [11 12 13 14 15 16 17 18 19 20]]\n"
          ]
        }
      ]
    },
    {
      "cell_type": "markdown",
      "source": [
        "# **(c)**"
      ],
      "metadata": {
        "id": "A82amrqLTV-o"
      }
    },
    {
      "cell_type": "code",
      "source": [
        "import numpy.random as npr\n",
        "\n",
        "data = np.exp(npr.randn(50, 5))\n",
        "\n",
        "print(\"\\nFake dataset (first 5 rows):\\n\", data[:5])\n"
      ],
      "metadata": {
        "colab": {
          "base_uri": "https://localhost:8080/"
        },
        "id": "ZiBNA6JATZWh",
        "outputId": "a551bfa2-3962-46c6-d416-cb1ce1bfc4fe"
      },
      "execution_count": 18,
      "outputs": [
        {
          "output_type": "stream",
          "name": "stdout",
          "text": [
            "\n",
            "Fake dataset (first 5 rows):\n",
            " [[0.36972398 0.62461415 0.44132567 2.32253175 0.46557803]\n",
            " [4.24128737 0.55735688 0.30824983 1.12843483 0.57043811]\n",
            " [2.96030274 1.15247165 0.73240487 2.26155284 2.27866102]\n",
            " [3.62626136 4.0202148  0.35835231 1.67423033 0.5870188 ]\n",
            " [0.45195534 3.90099921 1.1700023  1.96388544 0.65100518]]\n"
          ]
        }
      ]
    },
    {
      "cell_type": "markdown",
      "source": [
        "# **(d)**"
      ],
      "metadata": {
        "id": "toMY8zAcUBlc"
      }
    },
    {
      "cell_type": "code",
      "source": [
        "data = np.exp(npr.randn(50, 5))\n",
        "\n",
        "print(\"\\nFake dataset (first 5 rows):\\n\", data[:5])\n",
        "\n"
      ],
      "metadata": {
        "colab": {
          "base_uri": "https://localhost:8080/"
        },
        "collapsed": true,
        "id": "5zSJ9odvUF00",
        "outputId": "49be58ca-74bd-4d01-8aca-7271c2bf59d0"
      },
      "execution_count": 19,
      "outputs": [
        {
          "output_type": "stream",
          "name": "stdout",
          "text": [
            "\n",
            "Fake dataset (first 5 rows):\n",
            " [[2.0737544  1.44204018 0.46205676 3.79678037 2.1495915 ]\n",
            " [1.68135525 0.4743572  2.78826481 0.98632706 7.42707544]\n",
            " [0.95889162 4.71558397 0.16756369 0.39149434 1.2276154 ]\n",
            " [2.37234026 1.04260198 0.36463034 0.26053463 0.34485207]\n",
            " [1.36901927 0.58972205 3.44294984 2.89354829 0.34695594]]\n"
          ]
        }
      ]
    },
    {
      "cell_type": "markdown",
      "source": [
        "# **(e)**"
      ],
      "metadata": {
        "id": "P4Q-Ov-pUSKc"
      }
    },
    {
      "cell_type": "code",
      "source": [
        "mean_col = np.mean(data, axis=0)\n",
        "\n",
        "std_col = np.std(data, axis=0)\n",
        "\n",
        "print(\"\\nMean of each column:\\n\", mean_col)\n",
        "print(\"Standard deviation of each column:\\n\", std_col)\n"
      ],
      "metadata": {
        "colab": {
          "base_uri": "https://localhost:8080/"
        },
        "id": "FU98TDkGUUnB",
        "outputId": "3e68f3dd-2e9e-41da-f6df-d63434c983cb"
      },
      "execution_count": 20,
      "outputs": [
        {
          "output_type": "stream",
          "name": "stdout",
          "text": [
            "\n",
            "Mean of each column:\n",
            " [1.70387959 1.53275199 1.2901445  1.70066947 1.45015594]\n",
            "Standard deviation of each column:\n",
            " [1.76645649 1.24952667 1.46875491 1.43335862 1.27627522]\n"
          ]
        }
      ]
    },
    {
      "cell_type": "markdown",
      "source": [
        "# **(f)**"
      ],
      "metadata": {
        "id": "Q0CJsAt-Ua8A"
      }
    },
    {
      "cell_type": "code",
      "source": [
        "normalized = (data - mean_col) / std_col\n",
        "\n",
        "\n",
        "mean_normalized = np.mean(normalized, axis=0)\n",
        "std_normalized = np.std(normalized, axis=0)\n",
        "\n",
        "print(\"\\nMean of each column (after normalization):\\n\", mean_normalized)\n",
        "print(\"Standard deviation of each column (after normalization):\\n\", std_normalized)\n"
      ],
      "metadata": {
        "colab": {
          "base_uri": "https://localhost:8080/"
        },
        "id": "ed3-SnZHUdfY",
        "outputId": "18171b68-98fa-4e2c-b1b4-8a988c36ab2d"
      },
      "execution_count": 21,
      "outputs": [
        {
          "output_type": "stream",
          "name": "stdout",
          "text": [
            "\n",
            "Mean of each column (after normalization):\n",
            " [-1.34336986e-16  2.22044605e-17 -1.31006317e-16 -8.88178420e-17\n",
            " -2.22044605e-16]\n",
            "Standard deviation of each column (after normalization):\n",
            " [1. 1. 1. 1. 1.]\n"
          ]
        }
      ]
    },
    {
      "cell_type": "markdown",
      "source": [
        "# **Q3**"
      ],
      "metadata": {
        "id": "Byd1EPXQU3MO"
      }
    },
    {
      "cell_type": "markdown",
      "source": [
        "# **(a)**"
      ],
      "metadata": {
        "id": "xOXP-oGhVKQm"
      }
    },
    {
      "cell_type": "code",
      "source": [
        "def vandermonde(N):\n",
        "\n",
        "    vec = np.arange(1, N+1)\n",
        "    vander_matrix = vec[:, None] ** np.arange(N)\n",
        "    return vander_matrix\n",
        "\n",
        "N = 12\n",
        "vander = vandermonde(N)\n",
        "print(vander)"
      ],
      "metadata": {
        "colab": {
          "base_uri": "https://localhost:8080/"
        },
        "id": "lw9jeMVbVM0q",
        "outputId": "cacc64dd-3b2f-4baf-fd5f-fb4a4ba323fd"
      },
      "execution_count": 22,
      "outputs": [
        {
          "output_type": "stream",
          "name": "stdout",
          "text": [
            "[[           1            1            1            1            1\n",
            "             1            1            1            1            1\n",
            "             1            1]\n",
            " [           1            2            4            8           16\n",
            "            32           64          128          256          512\n",
            "          1024         2048]\n",
            " [           1            3            9           27           81\n",
            "           243          729         2187         6561        19683\n",
            "         59049       177147]\n",
            " [           1            4           16           64          256\n",
            "          1024         4096        16384        65536       262144\n",
            "       1048576      4194304]\n",
            " [           1            5           25          125          625\n",
            "          3125        15625        78125       390625      1953125\n",
            "       9765625     48828125]\n",
            " [           1            6           36          216         1296\n",
            "          7776        46656       279936      1679616     10077696\n",
            "      60466176    362797056]\n",
            " [           1            7           49          343         2401\n",
            "         16807       117649       823543      5764801     40353607\n",
            "     282475249   1977326743]\n",
            " [           1            8           64          512         4096\n",
            "         32768       262144      2097152     16777216    134217728\n",
            "    1073741824   8589934592]\n",
            " [           1            9           81          729         6561\n",
            "         59049       531441      4782969     43046721    387420489\n",
            "    3486784401  31381059609]\n",
            " [           1           10          100         1000        10000\n",
            "        100000      1000000     10000000    100000000   1000000000\n",
            "   10000000000 100000000000]\n",
            " [           1           11          121         1331        14641\n",
            "        161051      1771561     19487171    214358881   2357947691\n",
            "   25937424601 285311670611]\n",
            " [           1           12          144         1728        20736\n",
            "        248832      2985984     35831808    429981696   5159780352\n",
            "   61917364224 743008370688]]\n"
          ]
        }
      ]
    },
    {
      "cell_type": "markdown",
      "source": [
        "# **(b)**"
      ],
      "metadata": {
        "id": "K0j3gemDWCj7"
      }
    },
    {
      "cell_type": "code",
      "source": [
        "x = np.ones(12)\n",
        "\n",
        "b = np.dot(vander, x)\n",
        "\n",
        "print(b)"
      ],
      "metadata": {
        "colab": {
          "base_uri": "https://localhost:8080/"
        },
        "id": "6nohYLjWWGVv",
        "outputId": "23b207b4-520b-4677-c281-496f22655644"
      },
      "execution_count": 23,
      "outputs": [
        {
          "output_type": "stream",
          "name": "stdout",
          "text": [
            "[1.20000000e+01 4.09500000e+03 2.65720000e+05 5.59240500e+06\n",
            " 6.10351560e+07 4.35356467e+08 2.30688120e+09 9.81706810e+09\n",
            " 3.53036921e+10 1.11111111e+11 3.13842838e+11 8.10554586e+11]\n"
          ]
        }
      ]
    },
    {
      "cell_type": "markdown",
      "source": [
        "# **(c)**"
      ],
      "metadata": {
        "id": "kGDlMYBVWSlD"
      }
    },
    {
      "cell_type": "code",
      "source": [
        "V_inv = np.linalg.inv(vander)\n",
        "\n",
        "x_naive = np.dot(V_inv, b)\n",
        "\n",
        "print(\"Result of x using matrix inversion:\", x_naive)"
      ],
      "metadata": {
        "colab": {
          "base_uri": "https://localhost:8080/"
        },
        "id": "0tYq5aUqWVwD",
        "outputId": "17a09ad0-cb5e-4d40-d532-503c6bdbc26b"
      },
      "execution_count": 24,
      "outputs": [
        {
          "output_type": "stream",
          "name": "stdout",
          "text": [
            "Result of x using matrix inversion: [-12.26953125   5.90625     15.421875    -6.03515625   2.05859375\n",
            "   0.92675781   1.00244141   1.00010681   0.99997711   1.00000131\n",
            "   0.99999996   1.        ]\n"
          ]
        }
      ]
    },
    {
      "cell_type": "markdown",
      "source": [
        "# **(d)**"
      ],
      "metadata": {
        "id": "6Xn7z_3gW_4r"
      }
    },
    {
      "cell_type": "code",
      "source": [
        "x_solve = np.linalg.solve(vander, b)\n",
        "\n",
        "print(\"Result of x using np.linalg.solve:\", x_solve)"
      ],
      "metadata": {
        "colab": {
          "base_uri": "https://localhost:8080/"
        },
        "id": "cDlW1GRtXC8f",
        "outputId": "1dd4b6cc-8c89-4e4b-d9f9-06d2082ed50a"
      },
      "execution_count": 25,
      "outputs": [
        {
          "output_type": "stream",
          "name": "stdout",
          "text": [
            "Result of x using np.linalg.solve: [0.98080503 1.05139768 0.94513807 1.03151945 0.98899166 1.00248816\n",
            " 0.99962407 1.0000384  0.99999737 1.00000012 1.         1.        ]\n"
          ]
        }
      ]
    },
    {
      "cell_type": "code",
      "source": [],
      "metadata": {
        "id": "5BoyPCSwXO4G"
      },
      "execution_count": null,
      "outputs": []
    }
  ]
}